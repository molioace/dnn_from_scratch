{
 "cells": [
  {
   "cell_type": "code",
   "execution_count": 16,
   "id": "9431e3c9-7707-4b04-bf9d-566ee301a344",
   "metadata": {},
   "outputs": [
    {
     "name": "stdout",
     "output_type": "stream",
     "text": [
      "The autoreload extension is already loaded. To reload it, use:\n",
      "  %reload_ext autoreload\n"
     ]
    }
   ],
   "source": [
    "import time\n",
    "import numpy as np\n",
    "import h5py\n",
    "import matplotlib.pyplot as plt\n",
    "import scipy\n",
    "from PIL import Image\n",
    "from scipy import ndimage\n",
    "from dnn_utils import load_data\n",
    "from app_dnn_utils import *\n",
    "\n",
    "%matplotlib inline\n",
    "plt.rcParams['figure.figsize'] = (5.0, 4.0) \n",
    "plt.rcParams['image.interpolation'] = 'nearest'\n",
    "plt.rcParams['image.cmap'] = 'gray'\n",
    "\n",
    "%load_ext autoreload\n",
    "%autoreload 2\n"
   ]
  },
  {
   "cell_type": "code",
   "execution_count": 17,
   "id": "29bae6c7-777c-46ba-bb92-5e6252656da2",
   "metadata": {},
   "outputs": [],
   "source": [
    "train_x_orig, train_y, test_x_orig, test_y, classes = load_data('./datasets/catvnoncat/train.h5', './datasets/catvnoncat/test.h5')"
   ]
  },
  {
   "cell_type": "code",
   "execution_count": 18,
   "id": "e62ac718-ffc2-4103-bf45-9b69a3da2dda",
   "metadata": {},
   "outputs": [
    {
     "name": "stdout",
     "output_type": "stream",
     "text": [
      "Training set shapes: (209, 64, 64, 3) (1, 209)\n",
      "Testing set shapes: (50, 64, 64, 3) (1, 50)\n"
     ]
    }
   ],
   "source": [
    "print(\"Training set shapes:\", train_x_orig.shape, train_y.shape)\n",
    "print(\"Testing set shapes:\", test_x_orig.shape, test_y.shape)"
   ]
  },
  {
   "cell_type": "code",
   "execution_count": 19,
   "id": "049d29cb-02b7-49cf-b4e4-40fe6d976245",
   "metadata": {},
   "outputs": [
    {
     "name": "stdout",
     "output_type": "stream",
     "text": [
      "Number of training examples: 209\n",
      "Number of testing examples: 50\n",
      "Each image is of size: (64, 64, 3)\n",
      "train_x_orig shape: (209, 64, 64, 3)\n",
      "train_y shape: (1, 209)\n",
      "test_x_orig shape: (50, 64, 64, 3)\n",
      "test_y shape: (1, 50)\n"
     ]
    }
   ],
   "source": [
    "m_train = train_x_orig.shape[0]\n",
    "num_px = train_x_orig.shape[1]\n",
    "m_test = test_x_orig.shape[0]\n",
    "\n",
    "print (\"Number of training examples: \" + str(m_train))\n",
    "print (\"Number of testing examples: \" + str(m_test))\n",
    "print (\"Each image is of size: (\" + str(num_px) + \", \" + str(num_px) + \", 3)\")\n",
    "print (\"train_x_orig shape: \" + str(train_x_orig.shape))\n",
    "print (\"train_y shape: \" + str(train_y.shape))\n",
    "print (\"test_x_orig shape: \" + str(test_x_orig.shape))\n",
    "print (\"test_y shape: \" + str(test_y.shape))"
   ]
  },
  {
   "cell_type": "code",
   "execution_count": 20,
   "id": "14ef4dc7-0b34-440e-9781-e352211ad3ab",
   "metadata": {},
   "outputs": [
    {
     "name": "stdout",
     "output_type": "stream",
     "text": [
      "train_x's shape: (12288, 209)\n",
      "test_x's shape: (12288, 50)\n"
     ]
    }
   ],
   "source": [
    "train_x_flatten = train_x_orig.reshape(train_x_orig.shape[0], -1).T   # The \"-1\" makes reshape flatten the remaining dimensions\n",
    "test_x_flatten = test_x_orig.reshape(test_x_orig.shape[0], -1).T\n",
    "\n",
    "train_x = train_x_flatten/255.\n",
    "test_x = test_x_flatten/255.\n",
    "\n",
    "print (\"train_x's shape: \" + str(train_x.shape))\n",
    "print (\"test_x's shape: \" + str(test_x.shape))"
   ]
  },
  {
   "cell_type": "code",
   "execution_count": 21,
   "id": "a13b1d94-fddd-4252-b416-02dda20261a3",
   "metadata": {},
   "outputs": [],
   "source": [
    "n_x = 12288     \n",
    "n_h = 7\n",
    "n_y = 1\n",
    "layers_dims = (n_x, n_h, n_y)\n",
    "learning_rate = 0.0075"
   ]
  },
  {
   "cell_type": "code",
   "execution_count": 22,
   "id": "1b16900a-f42f-448e-bfcb-a8056bc918e7",
   "metadata": {},
   "outputs": [],
   "source": [
    "layers_dims = [12288, 20, 7, 5, 1]"
   ]
  },
  {
   "cell_type": "code",
   "execution_count": 23,
   "id": "42bde670-0ca4-4016-92fc-c90f42376697",
   "metadata": {},
   "outputs": [],
   "source": [
    "def L_layer_model(X, Y, layers_dims, learning_rate = 0.0075, num_iterations = 3000, print_cost=False):\n",
    "    np.random.seed(1)\n",
    "    costs = []                        \n",
    "    \n",
    "    parameters = initialize_parameters_deep(layers_dims)\n",
    "    \n",
    "    for i in range(0, num_iterations):\n",
    "        AL, caches = L_model_forward(X, parameters)\n",
    "        \n",
    "        cost = compute_cost(AL, Y)\n",
    "        \n",
    "        grads = L_model_backward(AL, Y, caches)\n",
    "        \n",
    "        parameters = update_parameters(parameters, grads, learning_rate)\n",
    "\n",
    "        if print_cost and i % 100 == 0 or i == num_iterations - 1:\n",
    "            print(\"Cost after iteration {}: {}\".format(i, np.squeeze(cost)))\n",
    "        if i % 100 == 0 or i == num_iterations:\n",
    "            costs.append(cost)\n",
    "    \n",
    "    return parameters, costs"
   ]
  },
  {
   "cell_type": "code",
   "execution_count": 24,
   "id": "2af3326a-3dcc-4551-867f-84be78dfb5cb",
   "metadata": {},
   "outputs": [],
   "source": [
    "def plot_costs(costs, learning_rate=0.0075):\n",
    "    plt.plot(np.squeeze(costs))\n",
    "    plt.ylabel('cost')\n",
    "    plt.xlabel('iterations (per hundreds)')\n",
    "    plt.title(\"Learning rate =\" + str(learning_rate))\n",
    "    plt.show()"
   ]
  },
  {
   "cell_type": "code",
   "execution_count": 25,
   "id": "3e0de4a8-0341-4160-83a1-e44664069707",
   "metadata": {},
   "outputs": [
    {
     "name": "stdout",
     "output_type": "stream",
     "text": [
      "Cost after iteration 0: 0.8116017481136114\n",
      "Cost after first iteration: 0.8116017481136114\n"
     ]
    }
   ],
   "source": [
    "parameters, costs = L_layer_model(train_x, train_y, layers_dims, num_iterations = 1, print_cost = False)\n",
    "\n",
    "print(\"Cost after first iteration: \" + str(costs[0]))"
   ]
  },
  {
   "cell_type": "code",
   "execution_count": 26,
   "id": "e4b49825-cae5-44b4-b7cb-cdb059b86eab",
   "metadata": {},
   "outputs": [
    {
     "name": "stdout",
     "output_type": "stream",
     "text": [
      "Cost after iteration 0: 0.8116017481136114\n",
      "Cost after iteration 100: 0.6676695646220321\n",
      "Cost after iteration 200: 0.6339824668918083\n",
      "Cost after iteration 300: 0.6057467650054879\n",
      "Cost after iteration 400: 0.5629711332996642\n",
      "Cost after iteration 500: 0.41594126531630204\n",
      "Cost after iteration 600: 0.3204714324288977\n",
      "Cost after iteration 700: 0.2324734795290719\n",
      "Cost after iteration 800: 0.14847577500848438\n",
      "Cost after iteration 900: 0.08750257977951129\n",
      "Cost after iteration 1000: 0.05738770594106722\n",
      "Cost after iteration 1100: 0.03993652491220219\n",
      "Cost after iteration 1200: 0.030270549594624815\n",
      "Cost after iteration 1300: 0.024070231198004267\n",
      "Cost after iteration 1400: 0.01965655605935522\n",
      "Cost after iteration 1500: 0.016491698536305242\n",
      "Cost after iteration 1600: 0.01416940230780497\n",
      "Cost after iteration 1700: 0.0121924184357857\n",
      "Cost after iteration 1800: 0.010697445643829268\n",
      "Cost after iteration 1900: 0.009464245952082279\n",
      "Cost after iteration 2000: 0.0084878494549911\n",
      "Cost after iteration 2100: 0.007661572373197813\n",
      "Cost after iteration 2200: 0.006931420868768025\n",
      "Cost after iteration 2300: 0.006335242727180897\n",
      "Cost after iteration 2400: 0.005812796442589086\n",
      "Cost after iteration 2499: 0.0053820907940146856\n"
     ]
    },
    {
     "data": {
      "image/png": "[encoded data removed]",
      "text/plain": [
       "<Figure size 500x400 with 1 Axes>"
      ]
     },
     "metadata": {},
     "output_type": "display_data"
    }
   ],
   "source": [
    "parameters, costs = L_layer_model(train_x, train_y, layers_dims, num_iterations = 2500, print_cost = True)\n",
    "plot_costs(costs, learning_rate)"
   ]
  },
  {
   "cell_type": "code",
   "execution_count": 27,
   "id": "73006d63-f679-4f05-8b58-a8b20e700c48",
   "metadata": {},
   "outputs": [],
   "source": [
    "def accuracy(X, Y, parameters):\n",
    "    AL, caches = L_model_forward(X, parameters)\n",
    "    Yhat = np.copy(AL)\n",
    "    Yhat[Yhat >= 0.5] = 1\n",
    "    Yhat[Yhat < 0.5] =0\n",
    "    accuracy = (X.shape[1]-np.sum(np.abs(np.subtract(Y,Yhat)), axis=1))/X.shape[1]\n",
    "    return accuracy[0] * 100 "
   ]
  },
  {
   "cell_type": "code",
   "execution_count": 28,
   "id": "179aa89d-19ef-43ac-9363-2852312d9a34",
   "metadata": {},
   "outputs": [
    {
     "name": "stdout",
     "output_type": "stream",
     "text": [
      "predictions train accuracy 100.0, predictions test accuracy 80.0\n"
     ]
    }
   ],
   "source": [
    "predictions_train = accuracy(train_x, train_y, parameters)\n",
    "predictions_test = accuracy(test_x, test_y, parameters)\n",
    "print(f'predictions train accuracy {predictions_train}, predictions test accuracy {predictions_test}')"
   ]
  }
 ],
 "metadata": {
  "kernelspec": {
   "display_name": "Python 3 (ipykernel)",
   "language": "python",
   "name": "python3"
  },
  "language_info": {
   "codemirror_mode": {
    "name": "ipython",
    "version": 3
   },
   "file_extension": ".py",
   "mimetype": "text/x-python",
   "name": "python",
   "nbconvert_exporter": "python",
   "pygments_lexer": "ipython3",
   "version": "3.11.7"
  }
 },
 "nbformat": 4,
 "nbformat_minor": 5
}
